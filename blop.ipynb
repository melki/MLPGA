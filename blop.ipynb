{
 "cells": [
  {
   "cell_type": "code",
   "execution_count": 49,
   "metadata": {
    "collapsed": false
   },
   "outputs": [],
   "source": [
    "from sklearn.neural_network import MLPClassifier\n",
    "import pygame \n",
    "import numpy as np\n",
    "\n",
    "import numpy.random as rd"
   ]
  },
  {
   "cell_type": "code",
   "execution_count": 126,
   "metadata": {
    "collapsed": false
   },
   "outputs": [],
   "source": [
    "def direction(a):\n",
    "    b = 1 - a**2\n",
    "    return np.sqrt(b)\n",
    "\n",
    "def distance(a,b):\n",
    "    return np.sqrt((b[\"x\"]-a[\"x\"])**2 + (b[\"y\"]-a[\"y\"])**2)\n",
    "\n",
    "def findCloseFood(blop,idBlop):\n",
    "    d1 = w+h,\n",
    "    d2 = w+h\n",
    "    f1 = {}\n",
    "    f2 = {}\n",
    "    i1 = 0\n",
    "    i2 = 0\n",
    "    for f in range(len(food)):\n",
    "        d = distance(blop,food[f])\n",
    "        if d < d2:\n",
    "            if d < d1:\n",
    "                d1 = d\n",
    "                f1 = food[f]\n",
    "                i1 = f\n",
    "            else:\n",
    "                d2 = d\n",
    "                f2 = food[f]\n",
    "                i2 = f\n",
    "    blopId[idBlop]['idf1'] = i1\n",
    "    if f1[\"x\"] > blop[\"x\"]:\n",
    "        blop[\"f1x\"] = np.cos(f1[\"x\"])\n",
    "    else:\n",
    "        blop[\"f1x\"] = -np.cos(f1[\"x\"])\n",
    "    if f1[\"y\"] > blop[\"y\"]:\n",
    "        blop[\"f1y\"] = -np.sin(f1[\"y\"])\n",
    "    else:\n",
    "        blop[\"f1y\"] = np.sin(f1[\"y\"])\n",
    "#     blopId[idBlop]['idf2'] = i2\n",
    "#     blop[\"f2x\"] = np.cos(f2[\"x\"])\n",
    "#     blop[\"f2y\"] = np.sin(f2[\"y\"])\n",
    "    return blop\n",
    "    \n",
    "def findCloseBlop(blop, gen, idBlop):\n",
    "    d1 = w+h,\n",
    "    d2 = w+h\n",
    "    g1 = {}\n",
    "    g2 = {}\n",
    "    i1 = 0\n",
    "    i2 = 0\n",
    "    \n",
    "    \n",
    "    g2 = gen[0]\n",
    "    i2 = 0\n",
    "    \n",
    "#     for k in range(len(gen)):\n",
    "        \n",
    "        \n",
    "#         if k != idBlop:\n",
    "#             d = distance(blop,gen[k])\n",
    "#             if d <= d2:\n",
    "#                 if d <= d1:\n",
    "#                     d1 = d\n",
    "#                     g1 = gen[k]\n",
    "#                     i1 = k\n",
    "#                 else:\n",
    "#                     d2 = d\n",
    "#                     g2 = gen[k]\n",
    "#                     i2 = k\n",
    "            \n",
    "#         blopId[idBlop]['ide1'] = i1\n",
    "#         if blop[\"x\"] > g1[\"x\"]:\n",
    "#             blop[\"e1x\"] = np.cos(g1[\"x\"])\n",
    "#         else:\n",
    "#             blop[\"e1x\"] = -np.cos(g1[\"x\"])\n",
    "#         if blop[\"y\"] > g1[\"y\"]:\n",
    "#             blop[\"e1y\"] = np.sin(g1[\"y\"])\n",
    "#         else:\n",
    "#             blop[\"e1y\"] = -np.sin(g1[\"y\"])\n",
    "#     blop[\"e1s\"] = g1[\"score\"]\n",
    "#     blop[\"e2s\"] = g2[\"score\"]\n",
    "    return blop\n",
    "    \n",
    "\n",
    "def createFirstGeneration(n,w,h):\n",
    "    blop = [{} for i in range(n)]\n",
    "    for j in range(len(blop)):\n",
    "        blop[j][\"x\"] = np.floor(rd.rand()*w)\n",
    "        blop[j][\"y\"] = np.floor(rd.rand()*h)\n",
    "        blop[j][\"dx\"] = (rd.rand()*2)-1\n",
    "        blop[j][\"dy\"] = (2*np.floor(rd.rand()*2) - 1) * direction(blop[j][\"dx\"])\n",
    "        blop[j][\"score\"] = 1\n",
    "        blop[j][\"id\"] = j\n",
    "        \n",
    "    return blop\n",
    "\n",
    "def createFood(n,w,h):\n",
    "    food = [{} for i in range(n)]\n",
    "    for j in range(len(food)):\n",
    "        food[j]['x'] = np.floor(rd.rand()*w)\n",
    "        food[j]['y'] = np.floor(rd.rand()*h)\n",
    "    return food\n",
    "\n",
    "def createData(n):\n",
    "    dataX = [[] for i in range(n)]\n",
    "    \n",
    "    for i in range(n):\n",
    "        dd = []\n",
    "        for a in blop[i]:\n",
    "            if a != \"id\" and a != \"x\" and a != \"y\" and a != \"score\":\n",
    "                dd.append(blop[1][a])\n",
    "        dataX[i].append(dd)\n",
    "    dataY = [[np.floor(rd.rand()*3)] for i in range(n)]\n",
    "    \n",
    "    return dataX,dataY\n",
    "\n",
    "def createNN(n):\n",
    "    nn = []\n",
    "    for i in range(n):\n",
    "        nn.append(MLPClassifier(algorithm='l-bfgs', alpha=1e-5, max_iter=100000,hidden_layer_sizes=(10,10, 2), random_state=1))\n",
    "        if generation == 0:\n",
    "            nn[i].fit(np.array(dataX[i]).reshape(1, -1),np.array(dataY[i]))\n",
    "        else:\n",
    "            nn[i].fit(np.array(dataX[i]),np.array(dataY[i]))\n",
    "    return nn\n",
    "\n",
    "\n",
    "\n",
    "def moveBlops(blop):\n",
    "    for i in range(len(blop)):\n",
    "        if  blop[i][\"score\"] != 0: \n",
    "            #update dx & dy\n",
    "            if(prediction[i] == 0): #gauche\n",
    "                if blop[i]['dx'] <= 0:\n",
    "                    blop[i]['dy'] = blop[i]['dy'] - .2\n",
    "                    if blop[i]['dy'] < -1:\n",
    "                        blop[i]['dy'] += .2\n",
    "                        blop[i]['dx']  = direction(blop[i]['dy'])\n",
    "                    else:\n",
    "                        blop[i]['dx'] = -direction(blop[i]['dy'])\n",
    "                else:\n",
    "                    blop[i]['dy'] = blop[i]['dy'] + .2\n",
    "                    if blop[i]['dy'] > 1:\n",
    "                        blop[i]['dy'] -= .2\n",
    "                        blop[i]['dx']  = direction(blop[i]['dy'])\n",
    "                    else:\n",
    "                        blop[i]['dx'] = -direction(blop[i]['dy'])\n",
    "\n",
    "            elif(prediction[i] == 2): #droite\n",
    "                if blop[i]['dx'] <= 0:\n",
    "                    blop[i]['dy'] = blop[i]['dy'] + .2\n",
    "                    if blop[i]['dy'] > 1:\n",
    "                        blop[i]['dy'] -= .2\n",
    "                        blop[i]['dx']  = -direction(blop[i]['dy'])\n",
    "                    else:\n",
    "                        blop[i]['dx'] = direction(blop[i]['dy'])\n",
    "                else:\n",
    "                    blop[i]['dy'] = blop[i]['dy'] - .2\n",
    "                    if blop[i]['dy'] < -1:\n",
    "                        blop[i]['dy'] += .2\n",
    "                        blop[i]['dx'] = -direction(blop[i]['dy'])\n",
    "                    else:\n",
    "                        blop[i]['dx'] = direction(blop[i]['dy'])\n",
    "\n",
    "            #move the blop\n",
    "            blop[i][\"x\"] = blop[i][\"x\"] + 3*blop[i][\"dx\"]\n",
    "            blop[i][\"y\"] = blop[i][\"y\"] + 3*blop[i][\"dy\"]\n",
    "\n",
    "            if blop[i][\"y\"] >= h:\n",
    "                blop[i][\"dy\"] = -blop[i][\"dy\"]\n",
    "                blop[i][\"y\"] = h-5\n",
    "            if blop[i][\"y\"] <= 0:\n",
    "                blop[i][\"dy\"] = -blop[i][\"dy\"]\n",
    "                blop[i][\"y\"] = 5\n",
    "            if blop[i][\"x\"] >= w:\n",
    "                blop[i][\"x\"] = w - 5\n",
    "                blop[i][\"dx\"] = -blop[i][\"dx\"]\n",
    "            if blop[i][\"x\"] <= 0:\n",
    "                blop[i][\"x\"] = 5\n",
    "                blop[i][\"dx\"] = -blop[i][\"dx\"]\n",
    "\n",
    "\n",
    "            #check food\n",
    "            if distance(blop[i],food[blopId[i]['idf1']]) < 3+3+blop[i][\"score\"]:\n",
    "                blop[i][\"score\"] += 1\n",
    "#                 dataX[i].append(dataTempX[i][-5])\n",
    "#                 print dataX[i]\n",
    "#                 dataY[i].append(dataTempY[i][-1])\n",
    "                food[blopId[i][\"idf1\"]]['x'] = np.floor(rd.rand()*w)\n",
    "                food[blopId[i][\"idf1\"]]['y'] = np.floor(rd.rand()*h)\n",
    "\n",
    "            #check enemy\n",
    "\n",
    "#             if distance(blop[i],blop[blopId[i][\"ide1\"]]) < (3+3+blop[i][\"score\"]+blop[blopId[i][\"ide1\"]][\"score\"]):\n",
    "\n",
    "#                 if blop[i][\"score\"] > blop[blopId[i][\"ide1\"]][\"score\"]:\n",
    "#                     blop[i][\"score\"] = blop[i][\"score\"] + blop[blopId[i][\"ide1\"]][\"score\"]\n",
    "#                     blop[blopId[i][\"ide1\"]][\"score\"] = 0\n",
    "#                 elif blop[i][\"score\"] < blop[blopId[i][\"ide1\"]][\"score\"]:\n",
    "#                     blop[blopId[i][\"ide1\"]][\"score\"] += blop[i][\"score\"] \n",
    "#                     blop[i][\"score\"] = 0\n",
    "\n",
    "            blop[i] = findCloseFood(blop[i],i)\n",
    "            blop[i] = findCloseBlop(blop[i],blop,i)\n",
    "\n",
    "    return blop\n",
    "\n",
    "def drawFood(food,s):\n",
    "    for f in food:\n",
    "        pygame.draw.circle(s,red,(np.int(f['x']),np.int(f['y'])),3)\n",
    "\n",
    "def drawBlops(blop,s):\n",
    "    for b in blop:\n",
    "        if  b[\"score\"] != 0:\n",
    "            #if b[\"id\"] < 90:\n",
    "            pygame.draw.circle(s,green,(np.int(b['x']),np.int(b['y'])),3+int(b['score']))\n",
    "            #else:\n",
    "             #   pygame.draw.circle(s,black,(np.int(b['x']),np.int(b['y'])),3+b['score'])\n",
    "        \n",
    "def think(blop):\n",
    "    for i in range(len(blop)):\n",
    "        infos = []\n",
    "        for a in blop[i]:\n",
    "            if a != \"id\" and a != \"x\" and a != \"y\" and a != \"score\":\n",
    "                infos.append(blop[1][a])\n",
    "        if generation == 0:\n",
    "            prediction[i] = np.floor(rd.rand()*3)\n",
    "        else:\n",
    "            prediction[i] = nn[i].predict(np.array(infos).reshape(1, -1))[0]\n",
    "        if rd.rand(1) > .99:\n",
    "            prediction[i] = np.floor(rd.rand()*3)\n",
    "        dataX[i].append(infos)\n",
    "        dataY[i].append(prediction[i])\n",
    "    return blop"
   ]
  },
  {
   "cell_type": "code",
   "execution_count": 127,
   "metadata": {
    "collapsed": false
   },
   "outputs": [],
   "source": [
    "\n",
    "#variable initialisation\n",
    "# taille bouffe 3 taille initiale 3 + 2*score\n",
    "\n",
    "\n",
    "w = 500\n",
    "h = 500\n",
    "nbIndividu = 10\n",
    "nbFood = 50\n",
    "\n",
    "#creation\n",
    "blop = createFirstGeneration(nbIndividu,w,h)\n",
    "blopId = [{'idf1':0,'idf2':0,'ide1':0,'ide2':0,} for i in range(100)]\n",
    "food = createFood(nbFood,w,h)\n",
    "for b in range(len(blop)):\n",
    "    blop[b] = findCloseFood(blop[b],b)\n",
    "    blop[b] = findCloseBlop(blop[b],blop,b)\n",
    "prediction = np.ones(100)\n",
    "\n",
    "dataX,dataY = createData(nbIndividu)\n",
    "dataTempX = [[] for i in range(nbIndividu)]\n",
    "dataTempY = [[] for i in range(nbIndividu)]\n",
    "generation = 0\n",
    "nn = createNN(nbIndividu)\n",
    "\n",
    "\n"
   ]
  },
  {
   "cell_type": "code",
   "execution_count": 128,
   "metadata": {
    "collapsed": false
   },
   "outputs": [],
   "source": [
    "nbElite = 5\n",
    "def selectBest(blop):\n",
    "    newlist = sorted(blop, key=lambda k: k['score'], reverse=True) \n",
    "    p = newlist[0:nbElite]\n",
    "    idp = [];\n",
    "    for i in range(len(p)):\n",
    "        idp.append(p[i][\"id\"])\n",
    "    newDx = []\n",
    "    newDy = []\n",
    "    for i in idp:\n",
    "        newDy.append(dataY[i])\n",
    "        newDx.append(dataX[i])\n",
    "    return newDx, newDy\n",
    "\n",
    "def reproduction(x,y):\n",
    "    deX = []\n",
    "    deY = []\n",
    "    d1 = int(len(x[0])/2)\n",
    "    d2 = int(len(x[0]))\n",
    "    \n",
    "        \n",
    "    for k in range(nbIndividu - nbElite):\n",
    "        i = int(np.floor(rd.rand()*len(x)))\n",
    "        j = i\n",
    "\n",
    "        while i == j:\n",
    "            j = int(np.floor(rd.rand()*len(x)))\n",
    "        deX.append(x[i][0:d1]+x[j][d1:d2])\n",
    "        deY.append(y[i][0:d1]+y[j][d1:d2])\n",
    "        \n",
    "    return deX,deY"
   ]
  },
  {
   "cell_type": "code",
   "execution_count": null,
   "metadata": {
    "collapsed": false,
    "scrolled": false
   },
   "outputs": [
    {
     "name": "stdout",
     "output_type": "stream",
     "text": [
      "generation 1\n",
      "global score 15\n",
      "generation 2\n",
      "global score 16\n",
      "generation 3\n",
      "global score 18\n",
      "generation 4\n",
      "global score 16\n",
      "generation 5"
     ]
    }
   ],
   "source": [
    "#fenetre\n",
    "\n",
    "black = (0, 0, 0)\n",
    "white = (255, 255, 255)\n",
    "green = (0, 255, 0)\n",
    "red = (255, 0, 0)\n",
    "\n",
    "margin = 1\n",
    "pygame.init()\n",
    "\n",
    "\n",
    "screen = pygame.display.set_mode([w,h])\n",
    " \n",
    "pygame.display.set_caption(\"blop army\")\n",
    "\n",
    "# Loop until the user clicks the close button.\n",
    "done = False\n",
    " \n",
    "# Used to manage how fast the screen updates\n",
    "clock = pygame.time.Clock()\n",
    "ii = 0;\n",
    "# -------- Main Program Loop -----------\n",
    "\n",
    "scoreMoyen = [0,0]\n",
    "nbTour = 150\n",
    "while not done:\n",
    "    ii+=1\n",
    "    for event in pygame.event.get():  # User did something\n",
    "        if event.type == pygame.QUIT:  # If user clicked close\n",
    "            done = True  # Flag that we are done so we exit this loop\n",
    "        \n",
    "    # Set the screen background\n",
    "\n",
    "    \n",
    "    \n",
    "    screen.fill(white)\n",
    "    blop = think(blop)\n",
    "    blop = moveBlops(blop)\n",
    "    drawFood(food,screen)\n",
    "    drawBlops(blop,screen)\n",
    "\n",
    "    \n",
    "    if (ii%nbTour) == 0:\n",
    "        pygame.display.set_caption(\"blop army generatio #\"+str(generation))\n",
    "        generation += 1\n",
    "        print \"generation \"+str(ii/nbTour)\n",
    "        ss = 0\n",
    "        bb = sorted(blop, key=lambda k: k['score'], reverse=True) \n",
    "        for b in bb[0:nbElite]:\n",
    "            ss+=b[\"score\"]\n",
    "        print \"global score \"+str(ss)\n",
    "        scoreMoyen.append(ss)\n",
    "        \n",
    "#         if(ss > np.max(scoreMoyen[0:-2])):\n",
    "#             print \"bravo les petits gars\"\n",
    "\n",
    "        dataParentsX, dataParentsY  = selectBest(blop)\n",
    "        dataEnfantsX, dataEnfantsY = reproduction(dataParentsX, dataParentsY)\n",
    "        dataX =  dataParentsX + dataEnfantsX\n",
    "        dataY =  dataParentsY + dataEnfantsY\n",
    "#             oldX =  dataParentsX + dataEnfantsX\n",
    "#             oldY = dataParentsY + dataEnfantsY\n",
    "\n",
    "#         else: \n",
    "#             print \"pas d'amélioration\"\n",
    "#             dataX = oldX\n",
    "#             dataY = oldY\n",
    "        \n",
    "        nn = createNN(nbIndividu)\n",
    "        \n",
    "        \n",
    "        \n",
    "        blop = createFirstGeneration(nbIndividu,w,h)\n",
    "        blopId = [{'idf1':0,'idf2':0,'ide1':0,'ide2':0,} for i in range(100)]\n",
    "        \n",
    "        food = createFood(nbFood,w,h)\n",
    "        \n",
    "        for b in range(len(blop)):\n",
    "            blop[b] = findCloseFood(blop[b],b)\n",
    "            blop[b] = findCloseBlop(blop[b],blop,b)\n",
    "        \n",
    "        \n",
    "\n",
    "\n",
    "        prediction = np.ones(100)\n",
    "        \n",
    "#         dataTempX = [[] for i in range(nbIndividu)]\n",
    "#         dataTempY = [[] for i in range(nbIndividu)]\n",
    "\n",
    "        \n",
    "        dataX = [[] for i in range(nbIndividu)]\n",
    "        dataY = [[] for i in range(nbIndividu)]\n",
    "        \n",
    "       \n",
    "    \n",
    "    clock.tick(60)\n",
    "\n",
    "    pygame.display.flip()\n",
    "pygame.quit()\n",
    "import matplotlib.pyplot as plt\n",
    "%matplotlib inline\n",
    "\n",
    "plt.plot(scoreMoyen)\n",
    "plt.show()"
   ]
  },
  {
   "cell_type": "code",
   "execution_count": 109,
   "metadata": {
    "collapsed": false
   },
   "outputs": [
    {
     "data": {
      "text/plain": [
       "15"
      ]
     },
     "execution_count": 109,
     "metadata": {},
     "output_type": "execute_result"
    }
   ],
   "source": [
    "len(dataX[7])\n"
   ]
  },
  {
   "cell_type": "code",
   "execution_count": 179,
   "metadata": {
    "collapsed": false
   },
   "outputs": [
    {
     "name": "stdout",
     "output_type": "stream",
     "text": [
      "[[30.843427727325246, 241.07456162415838, 7.8999999999999995, 282.66029935921347, 3.3999999999999995, 30.0, 52.192184211832263, 211.0, 4.599999999999999, -0.31552752158238911, -0.94891642578473423, 45.442098279829068, 219.75584706645895, 34.0, 256.0]]\n"
     ]
    }
   ],
   "source": [
    "a,b = createData(10)\n",
    "print a[1]"
   ]
  },
  {
   "cell_type": "code",
   "execution_count": 41,
   "metadata": {
    "collapsed": false
   },
   "outputs": [
    {
     "data": {
      "text/plain": [
       "<function matplotlib.pyplot.show>"
      ]
     },
     "execution_count": 41,
     "metadata": {},
     "output_type": "execute_result"
    },
    {
     "data": {
      "image/png": "[encoded data removed]",
      "text/plain": [
       "<matplotlib.figure.Figure at 0x7f1022353b90>"
      ]
     },
     "metadata": {},
     "output_type": "display_data"
    }
   ],
   "source": [
    "\n",
    "plt.plot(abbv)\n",
    "plt.show\n"
   ]
  },
  {
   "cell_type": "code",
   "execution_count": 38,
   "metadata": {
    "collapsed": false
   },
   "outputs": [
    {
     "data": {
      "text/plain": [
       "166"
      ]
     },
     "execution_count": 38,
     "metadata": {},
     "output_type": "execute_result"
    }
   ],
   "source": [
    "len(scoreMoyen)"
   ]
  },
  {
   "cell_type": "code",
   "execution_count": 40,
   "metadata": {
    "collapsed": false
   },
   "outputs": [
    {
     "data": {
      "text/plain": [
       "<function matplotlib.pyplot.show>"
      ]
     },
     "execution_count": 40,
     "metadata": {},
     "output_type": "execute_result"
    },
    {
     "data": {
      "image/png": "[encoded data removed]",
      "text/plain": [
       "<matplotlib.figure.Figure at 0x7f10223f9790>"
      ]
     },
     "metadata": {},
     "output_type": "display_data"
    }
   ],
   "source": [
    "import matplotlib.pyplot as plt\n",
    "%matplotlib inline\n",
    "\n",
    "plt.plot(scoreMoyen)\n",
    "# plt.sh"
   ]
  },
  {
   "cell_type": "code",
   "execution_count": null,
   "metadata": {
    "collapsed": true
   },
   "outputs": [],
   "source": []
  }
 ],
 "metadata": {
  "kernelspec": {
   "display_name": "Python 2",
   "language": "python",
   "name": "python2"
  },
  "language_info": {
   "codemirror_mode": {
    "name": "ipython",
    "version": 2
   },
   "file_extension": ".py",
   "mimetype": "text/x-python",
   "name": "python",
   "nbconvert_exporter": "python",
   "pygments_lexer": "ipython2",
   "version": "2.7.11"
  }
 },
 "nbformat": 4,
 "nbformat_minor": 0
}
